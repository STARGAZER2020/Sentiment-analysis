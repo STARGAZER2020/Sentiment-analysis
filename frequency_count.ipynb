{
 "cells": [
  {
   "cell_type": "code",
   "execution_count": null,
   "metadata": {},
   "outputs": [],
   "source": [
    "import pandas as pd\n",
    "df = pd.read_csv(\"amazonreview.csv\")\n",
    "df.info()"
   ]
  },
  {
   "cell_type": "code",
   "execution_count": null,
   "metadata": {},
   "outputs": [],
   "source": [
    "file = open('1234.txt', 'r')\n",
    "book = file.read()\n",
    "\n",
    "\n",
    "def tokenize():\n",
    "    if book is not None:\n",
    "        words = book.lower().split()\n",
    "        return words\n",
    "    else:\n",
    "        return None\n",
    "        \n",
    "\n",
    "def map_book(tokens):\n",
    "    hash_map = {}\n",
    "\n",
    "    if tokens is not None:\n",
    "        for element in tokens:\n",
    "            word = element.replace(\",\",\"\")\n",
    "            word = word.replace(\".\",\"\")\n",
    "\n",
    "            if word in hash_map:\n",
    "                hash_map[word] = hash_map[word] + 1\n",
    "            else:\n",
    "                hash_map[word] = 1\n",
    "\n",
    "        return hash_map\n",
    "    else:\n",
    "        return None\n",
    "\n",
    "\n",
    "words = tokenize()\n",
    "word_list = [\"display\", \"screen\",\"notch\",\"resolution\",\"camera\", \"picture\", \"video\", \"recording\", \"selfie\", \"potrait\", \"rear\" , \"flash\", \"megapixel\", \"front\",\"music\", \"song\", \"speaker\", \"sound\",\"battery\", \"charge\", \"power\",\"lithium-ion\",\"standbytime\",\"money\",\"budget\",\"phone\", \"device\", \"model\",\"design\", \"look\",\"color\",\"ram\",\"glass\",\"temper\",\"os\",\"android\" ,\"nougat\", \"oxygen\", \"operating system\",\"processor\", \"cpu\", \"snapdragon\",\"hardware\",\"heat\",\"warm\",\"game\", \"gpu\",\"sensor\", \"navigation\", \"finegerprint\",\"face-reconigation\",\"voice-reconigation\",\"voice-reconigation\",\"compass\",\"magnetometer\",\"proximity\",\"accelerometer\", \"ambient\", \"gyroscope\",\"barometer\" ,\"temperature\",\"network\",\"connectivity\",\"4g\",\"lte\",\"volte\",\"wifi\",\"hotspot\",\"usb\",\"jack\",\"gps\",\"bluetooth\",\"signal\",\"location\",\"standards\",\"b/g\", \"nfc\", \"infrared\", \"sim\", \"fmgsm\", \"cdma\", \"gsm\", \"3g\", \"4g\", \"bands\",\"charger\", \"c-type\", \"dash\", \"usb\", \"turbo\",\"harddisk\", \"memory\", \"storage\",\"rom\",\"internal\", \"expandable\", \"microsd\", \"gb\", \"tb\", \"mb\",\"launcher\",\"warranty\", \"guarantee\",\"assisstant\", \"siri\", \"google\",\"notification\", \"alert\", \"gesture\"]\n",
    "\n",
    "map = map_book(words)\n",
    "\n",
    "for word in word_list:\n",
    "    print('Word: [' + word + '] Frequency: ' + str(map[word]))"
   ]
  },
  {
   "cell_type": "code",
   "execution_count": null,
   "metadata": {},
   "outputs": [],
   "source": []
  }
 ],
 "metadata": {
  "kernelspec": {
   "display_name": "Python 3",
   "language": "python",
   "name": "python3"
  },
  "language_info": {
   "codemirror_mode": {
    "name": "ipython",
    "version": 3
   },
   "file_extension": ".py",
   "mimetype": "text/x-python",
   "name": "python",
   "nbconvert_exporter": "python",
   "pygments_lexer": "ipython3",
   "version": "3.6.4"
  }
 },
 "nbformat": 4,
 "nbformat_minor": 2
}
