{
 "cells": [
  {
   "cell_type": "code",
   "execution_count": 1,
   "metadata": {},
   "outputs": [
    {
     "name": "stdout",
     "output_type": "stream",
     "text": [
      "['nice' 'specification' 'gen' 'disappoint' 'prior' 'until' 'great' 'name'\n",
      " '1st' 'sturdy']\n"
     ]
    }
   ],
   "source": [
    "from sklearn.feature_extraction.text import TfidfTransformer\n",
    "from sklearn.feature_extraction.text import TfidfVectorizer\n",
    "import re\n",
    "import numpy as np\n",
    "from textblob import TextBlob\n",
    "vectorizer = TfidfVectorizer()\n",
    "\n",
    "fname=open(\"review.txt\")\n",
    "pos_list=[]\n",
    "neg_list=[]\n",
    "for line in fname:\n",
    "    line=re.sub('[^ a-zA-Z0-9]','',line)\n",
    "    review_line=TextBlob(line)\n",
    "    review=review_line.sentiment.polarity\n",
    "    if(review>0.0):\n",
    "        pos_list.append(line)\n",
    "    else:\n",
    "        neg_list.append(line)\n",
    "featured_transformed=vectorizer.fit_transform(pos_list)\n",
    "\n",
    "#print(vectorizer.vocabulary_)\n",
    "#print(vectorizer.idf_)\n",
    "  \n",
    "\n",
    "response = vectorizer.transform(pos_list)\n",
    "feature_array = np.array(vectorizer.get_feature_names())\n",
    "tfidf_sorting = np.argsort(response.toarray()).flatten()[::-1]\n",
    "n = 10\n",
    "top_n = feature_array[tfidf_sorting][:n]\n",
    "print(top_n)"
   ]
  },
  {
   "cell_type": "code",
   "execution_count": null,
   "metadata": {},
   "outputs": [],
   "source": []
  }
 ],
 "metadata": {
  "kernelspec": {
   "display_name": "Python 3",
   "language": "python",
   "name": "python3"
  },
  "language_info": {
   "codemirror_mode": {
    "name": "ipython",
    "version": 3
   },
   "file_extension": ".py",
   "mimetype": "text/x-python",
   "name": "python",
   "nbconvert_exporter": "python",
   "pygments_lexer": "ipython3",
   "version": "3.6.5"
  }
 },
 "nbformat": 4,
 "nbformat_minor": 2
}
